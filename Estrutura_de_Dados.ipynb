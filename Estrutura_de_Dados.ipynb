{
  "nbformat": 4,
  "nbformat_minor": 0,
  "metadata": {
    "colab": {
      "provenance": [],
      "authorship_tag": "ABX9TyO7DU31GvzvtMPZTYv4YNkn",
      "include_colab_link": true
    },
    "kernelspec": {
      "name": "python3",
      "display_name": "Python 3"
    },
    "language_info": {
      "name": "python"
    }
  },
  "cells": [
    {
      "cell_type": "markdown",
      "metadata": {
        "id": "view-in-github",
        "colab_type": "text"
      },
      "source": [
        "<a href=\"https://colab.research.google.com/github/fgsantosti/estruturadedados/blob/main/Estrutura_de_Dados.ipynb\" target=\"_parent\"><img src=\"https://colab.research.google.com/assets/colab-badge.svg\" alt=\"Open In Colab\"/></a>"
      ]
    },
    {
      "cell_type": "markdown",
      "source": [
        "# **Algoritmo Bubble Sort**\n"
      ],
      "metadata": {
        "id": "rR22h4ipTYHU"
      }
    },
    {
      "cell_type": "markdown",
      "source": [
        "# **Algoritmo Insertion Sort**\n"
      ],
      "metadata": {
        "id": "01bMfHeyTDUk"
      }
    },
    {
      "cell_type": "markdown",
      "source": [
        "# **Algoritmo Selection Sort**\n"
      ],
      "metadata": {
        "id": "giY2R4KMTcT2"
      }
    },
    {
      "cell_type": "markdown",
      "source": [
        "# **Algoritmo Quick Sort**\n"
      ],
      "metadata": {
        "id": "k6-XO97DTmCM"
      }
    },
    {
      "cell_type": "markdown",
      "source": [
        "# **Algoritmo Quick Sort**\n",
        "\n",
        "**1. Conceitos Básicos:**\n",
        "   - **Divisão e Conquista:**\n",
        "     - Explicar o princípio da estratégia \"dividir para conquistar\".\n",
        "     - Destacar como o Quick Sort utiliza esse princípio para ordenar uma lista.\n",
        "\n",
        "**2. Funcionamento do Quick Sort:**\n",
        "   - **Escolha do Pivô:**\n",
        "     - Explicar o conceito do pivô e sua seleção.\n",
        "     - Destacar a importância de escolher um pivô eficiente para garantir a eficácia do algoritmo.\n",
        "\n",
        "   - **Particionamento:**\n",
        "     - Demonstrar como a lista é particionada em torno do pivô.\n",
        "     - Ilustrar a divisão da lista em duas partes: elementos menores que o pivô e elementos maiores que o pivô.\n",
        "\n",
        "   - **Recursividade:**\n",
        "     - Explicar como o Quick Sort é aplicado recursivamente nas duas sub-listas geradas pelo particionamento.\n",
        "     - Enfatizar a divisão contínua até que todas as sub-listas se tornem unidades ordenadas.\n",
        "\n",
        "**3. Implementação:**\n",
        "   - Apresentar um exemplo prático de implementação do algoritmo Quick Sort em pseudocódigo ou em uma linguagem de programação como Java ou Python.\n",
        "   - Destacar as partes-chave, incluindo a escolha do pivô, o particionamento e a recursividade.\n",
        "\n",
        "```java\n",
        "public class QuickSort {\n",
        "    public static void quickSort(int[] array, int inicio, int fim) {\n",
        "        if (inicio < fim) {\n",
        "            int indicePivo = particionar(array, inicio, fim);\n",
        "            quickSort(array, inicio, indicePivo - 1);\n",
        "            quickSort(array, indicePivo + 1, fim);\n",
        "        }\n",
        "    }\n",
        "\n",
        "    private static int particionar(int[] array, int inicio, int fim) {\n",
        "        int pivô = array[fim];\n",
        "        int i = inicio - 1;\n",
        "\n",
        "        for (int j = inicio; j < fim; j++) {\n",
        "            if (array[j] <= pivô) {\n",
        "                i++;\n",
        "                trocar(array, i, j);\n",
        "            }\n",
        "        }\n",
        "\n",
        "        trocar(array, i + 1, fim);\n",
        "        return i + 1;\n",
        "    }\n",
        "\n",
        "    private static void trocar(int[] array, int i, int j) {\n",
        "        int temp = array[i];\n",
        "        array[i] = array[j];\n",
        "        array[j] = temp;\n",
        "    }\n",
        "\n",
        "    // Exemplo de utilização\n",
        "    public static void main(String[] args) {\n",
        "        int[] array = {12, 4, 5, 6, 7, 3, 1, 15, 8, 10};\n",
        "        int n = array.length;\n",
        "\n",
        "        quickSort(array, 0, n - 1);\n",
        "\n",
        "        System.out.println(\"Array ordenado: \" + Arrays.toString(array));\n",
        "    }\n",
        "}\n",
        "```\n",
        "\n",
        "**4. Análise de Complexidade:**\n",
        "   - Apresentar a análise de complexidade do Quick Sort, destacando seu desempenho médio e pior caso.\n",
        "   - Comparar com outros algoritmos de ordenação em termos de eficiência.\n",
        "\n",
        "**5. Conclusão:**\n",
        "   - Recapitular os principais pontos abordados na aula.\n",
        "   - Destacar a eficiência do Quick Sort e sua aplicabilidade em cenários práticos.\n",
        "   - Incentivar os alunos a explorarem implementações e variações do algoritmo para um entendimento mais profundo.\n",
        "\n"
      ],
      "metadata": {
        "id": "RZUWtLU6wVrT"
      }
    },
    {
      "cell_type": "markdown",
      "source": [
        "## **Passo a passo da aplicação a uma lista de inteiros com 10 elementos**\n",
        "\n",
        "Vamos passar por um exemplo passo a passo da aplicação do algoritmo Quick Sort a uma lista de inteiros com 10 elementos. Para este exemplo, consideraremos a seguinte lista:\n",
        "\n",
        "$[12, 4, 5, 6, 7, 3, 1, 15, 8, 10]$\n",
        "\n",
        "**Passo 1: Escolha do Pivô**\n",
        "- Vamos escolher o último elemento como pivô. Portanto, $pivo = 10$ .\n",
        "\n",
        "**Passo 2: Particionamento**\n",
        "- Vamos percorrer a lista da esquerda para a direita, comparando cada elemento com o pivô.\n",
        "  - $[12, 4, 5, 6, 7, 3, 1, 15, 8, \\textbf{10}]$\n",
        "  - Movemos $\\textbf{4}$ para a esquerda, pois é menor que o pivô.\n",
        "\n",
        "- Continuamos o particionamento:\n",
        "  - $[12, \\textbf{4}, 5, 6, 7, 3, 1, 15, 8, \\textbf{10}] $\n",
        "  - $\\textbf{5}$ é menor que o pivô, então movemos $\\textbf{5}$ para a esquerda.\n",
        "\n",
        "  - $ [12, 4, \\textbf{5}, 6, 7, 3, 1, 15, 8, \\textbf{10}] $\n",
        "  - $\\textbf{6} $ é menor que o pivô, então movemos $\\textbf{6} $ para a esquerda.\n",
        "\n",
        "  - $[12, 4, 5, \\textbf{6}, 7, 3, 1, 15, 8, \\textbf{10}] $\n",
        "  - $\\textbf{7} $ é menor que o pivô, então movemos $\\textbf{7} $ para a esquerda.\n",
        "\n",
        "  - $[12, 4, 5, 6, \\textbf{7}, 3, 1, 15, 8, \\textbf{10}] $\n",
        "  - $\\textbf{3} $ é menor que o pivô, então movemos $\\textbf{3} $ para a esquerda.\n",
        "\n",
        "  - $[12, 4, 5, 6, 7, \\textbf{3}, 1, 15, 8, \\textbf{10}] $\n",
        "  - $\\textbf{1} $ é menor que o pivô, então movemos $\\textbf{1} $ para a esquerda.\n",
        "\n",
        "  - $[12, 4, 5, 6, 7, 3, \\textbf{1}, 15, 8, \\textbf{10}] $\n",
        "  - $\\textbf{8} $ é maior que o pivô, então não precisa ser movido.\n",
        "\n",
        "  - $[12, 4, 5, 6, 7, 3, 1, 15, \\textbf{8}, \\textbf{10}] $\n",
        "  - $\\textbf{15} $ é maior que o pivô, então não precisa ser movido.\n",
        "\n",
        "  - $[12, 4, 5, 6, 7, 3, 1, \\textbf{15}, \\textbf{8}, \\textbf{10}] $\n",
        "  - $\\textbf{10} $ é maior que o pivô, então não precisa ser movido.\n",
        "\n",
        "- Agora, trocamos o pivô ($\\text{pivô} = 10 $) com o primeiro elemento maior que o pivô na lista, que é $\\text{8} $.\n",
        "  - $[8, 4, 5, 6, 7, 3, 1, 10, 15] $\n",
        "\n",
        "**Passo 3: Aplicação Recursiva**\n",
        "- Aplicamos recursivamente o Quick Sort nas duas sub-listas geradas pelo particionamento:\n",
        "  - Sub-lista à esquerda de $\\text{pivô} = 8 $: $[4, 5, 6, 7, 3, 1] $\n",
        "  - Sub-lista à direita de $\\text{pivô} = 8 $: $[10, 15] $\n",
        "\n",
        "**Passo 4: Particionamento (Sub-lista à Esquerda)**\n",
        "- Escolhemos o último elemento como pivô novamente ($\\text{pivô} = 1 $).\n",
        "- Particionamos a sub-lista à esquerda:\n",
        "  - $[\\textbf{1}, 5, 6, 7, 3, \\textbf{4}] $\n",
        "  - $[\\textbf{1}, \\textbf{3}, 6, 7, \\textbf{4}, \\textbf{5}] $\n",
        "\n",
        "**Passo 5: Aplicação Recursiva (Sub-lista à Esquerda)**\n",
        "- Aplicamos recursivamente o Quick Sort na sub-lista à esquerda:\n",
        "  - Sub-lista à esquerda de $\\text{pivô} = 3 $: $[1] $\n",
        "  - Sub-lista à direita de $\\text{pivô} = 3 $: $[4, 5] $\n",
        "\n",
        "**Passo 6: Particionamento (Sub-lista à Direita)**\n",
        "- Escolhemos o único elemento como pivô ($\\text{pivô} = 5 $).\n",
        "- Particionamos a sub-lista à direita:\n",
        "  - $[4, \\textbf{5}] $\n",
        "\n",
        "**Passo 7: Aplicação Recursiva (Sub-lista à Direita)**\n",
        "- Como a sub-lista à direita tem apenas dois elementos, não precisamos realizar mais particionamentos.\n",
        "\n",
        "**Passo 8: Resultado Final**\n",
        "- Juntamos todas as sub-listas ordenadas para obter o resultado final:\n",
        "  - $[1, 3, 4, 5, 6, 7, 8, 10, 15] $\n",
        "\n",
        "Este é o processo do Quick Sort aplicado a uma lista de 10 elementos. O algoritmo continua a ser aplicado recursivamente até que todas as sub-listas tenham apenas um elemento, resultando em uma lista totalmente ordenada."
      ],
      "metadata": {
        "id": "I2nyoHfnw83i"
      }
    },
    {
      "cell_type": "markdown",
      "source": [
        "# **Algoritmo de busca binária**\n",
        "\n",
        "* O algoritmo de busca binária é executado somente em vetores ordenados. Nesse algoritmo o vetor com os dados é dividido ao meio e o número do meio é comparado com o número procurado.\n",
        "\n",
        "* Se estes forem iguais, a busca termina, caso contrário, se o número procurado é menor que o do meio, a busca será realizada no vetor à esquerda ao do meio.\n",
        "\n",
        "* Se o número procurado é maior que o do meio, a busca será realizada no vetor à direita ao vetor do meio. Esse procedimento de divisão e comparação acontece até que o vetor de dados fique com apenas um elemento ou até o número procurado\n",
        "ser encontrado.\n",
        "\n",
        "```java\n",
        "public class busca_binaria {\n",
        "\tpublic static void main(String[] args) {\n",
        "\t\tint[] x = {1,2,3,4,5,6,7,8,9,10};\n",
        "\t\tint tamanho = x.length;\n",
        "    //numero buscado\n",
        "\t\tint np = 4;\n",
        "\n",
        "\t\t//buscando o numero\n",
        "\t\tint achou = 0;\n",
        "\t\tint inicio = 0;\n",
        "\t\tint fim = tamanho - 1;\n",
        "\t\tint meio = (inicio+fim)/2;\n",
        "\n",
        "\t\twhile(inicio <= fim && achou == 0) {\n",
        "\t\t\tif (x[meio] == np) {\n",
        "\t\t\t\tachou = 1;\n",
        "\t\t\t} else {\n",
        "\t\t\t\tif (np < x[meio])\n",
        "\t\t\t\t\tfim = meio - 1;\n",
        "\t\t\t\telse\n",
        "\t\t\t\t\tinicio = meio + 1;\n",
        "\t\t\t\tmeio = (inicio + fim)/2;\n",
        "\t\t\t}\n",
        "\t\t}\n",
        "\n",
        "\t\tif (achou == 0) {\n",
        "\t\t\tSystem.out.println(\"Número não encontrado\");\n",
        "\t\t} else {\n",
        "\t\t\tSystem.out.println(\"Número encontrado no index \"+meio);\n",
        "\t\t}\n",
        "\t}\n",
        "}\n",
        "```\n"
      ],
      "metadata": {
        "id": "z2Syf4hWxaft"
      }
    }
  ]
}