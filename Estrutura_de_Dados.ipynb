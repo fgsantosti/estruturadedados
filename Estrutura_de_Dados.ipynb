{
  "nbformat": 4,
  "nbformat_minor": 0,
  "metadata": {
    "colab": {
      "provenance": [],
      "authorship_tag": "ABX9TyMnCu1VpAtdjR3ErUM7HtLD",
      "include_colab_link": true
    },
    "kernelspec": {
      "name": "python3",
      "display_name": "Python 3"
    },
    "language_info": {
      "name": "python"
    }
  },
  "cells": [
    {
      "cell_type": "markdown",
      "metadata": {
        "id": "view-in-github",
        "colab_type": "text"
      },
      "source": [
        "<a href=\"https://colab.research.google.com/github/fgsantosti/estruturadedados/blob/main/Estrutura_de_Dados.ipynb\" target=\"_parent\"><img src=\"https://colab.research.google.com/assets/colab-badge.svg\" alt=\"Open In Colab\"/></a>"
      ]
    },
    {
      "cell_type": "markdown",
      "source": [
        "# **Algoritmo Bubble Sort**\n"
      ],
      "metadata": {
        "id": "rR22h4ipTYHU"
      }
    },
    {
      "cell_type": "markdown",
      "source": [
        "# **Algoritmo Insertion Sort**\n"
      ],
      "metadata": {
        "id": "01bMfHeyTDUk"
      }
    },
    {
      "cell_type": "markdown",
      "source": [
        "# **Algoritmo Selection Sort**\n"
      ],
      "metadata": {
        "id": "giY2R4KMTcT2"
      }
    },
    {
      "cell_type": "markdown",
      "source": [
        "# **Algoritmo Quick Sort**\n"
      ],
      "metadata": {
        "id": "k6-XO97DTmCM"
      }
    },
    {
      "cell_type": "markdown",
      "source": [
        "# **Algoritmo Quick Sort**\n",
        "\n",
        "**1. Conceitos Básicos:**\n",
        "   - **Divisão e Conquista:**\n",
        "     - Explicar o princípio da estratégia \"dividir para conquistar\".\n",
        "     - Destacar como o Quick Sort utiliza esse princípio para ordenar uma lista.\n",
        "\n",
        "**2. Funcionamento do Quick Sort:**\n",
        "   - **Escolha do Pivô:**\n",
        "     - Explicar o conceito do pivô e sua seleção.\n",
        "     - Destacar a importância de escolher um pivô eficiente para garantir a eficácia do algoritmo.\n",
        "\n",
        "   - **Particionamento:**\n",
        "     - Demonstrar como a lista é particionada em torno do pivô.\n",
        "     - Ilustrar a divisão da lista em duas partes: elementos menores que o pivô e elementos maiores que o pivô.\n",
        "\n",
        "   - **Recursividade:**\n",
        "     - Explicar como o Quick Sort é aplicado recursivamente nas duas sub-listas geradas pelo particionamento.\n",
        "     - Enfatizar a divisão contínua até que todas as sub-listas se tornem unidades ordenadas.\n",
        "\n",
        "**3. Implementação:**\n",
        "   - Apresentar um exemplo prático de implementação do algoritmo Quick Sort em pseudocódigo ou em uma linguagem de programação como Java ou Python.\n",
        "   - Destacar as partes-chave, incluindo a escolha do pivô, o particionamento e a recursividade.\n",
        "\n",
        "```java\n",
        "public class QuickSort {\n",
        "    public static void quickSort(int[] array, int inicio, int fim) {\n",
        "        if (inicio < fim) {\n",
        "            int indicePivo = particionar(array, inicio, fim);\n",
        "            quickSort(array, inicio, indicePivo - 1);\n",
        "            quickSort(array, indicePivo + 1, fim);\n",
        "        }\n",
        "    }\n",
        "\n",
        "    private static int particionar(int[] array, int inicio, int fim) {\n",
        "        int pivô = array[fim];\n",
        "        int i = inicio - 1;\n",
        "\n",
        "        for (int j = inicio; j < fim; j++) {\n",
        "            if (array[j] <= pivô) {\n",
        "                i++;\n",
        "                trocar(array, i, j);\n",
        "            }\n",
        "        }\n",
        "\n",
        "        trocar(array, i + 1, fim);\n",
        "        return i + 1;\n",
        "    }\n",
        "\n",
        "    private static void trocar(int[] array, int i, int j) {\n",
        "        int temp = array[i];\n",
        "        array[i] = array[j];\n",
        "        array[j] = temp;\n",
        "    }\n",
        "\n",
        "    // Exemplo de utilização\n",
        "    public static void main(String[] args) {\n",
        "        int[] array = {12, 4, 5, 6, 7, 3, 1, 15, 8, 10};\n",
        "        int n = array.length;\n",
        "\n",
        "        quickSort(array, 0, n - 1);\n",
        "\n",
        "        System.out.println(\"Array ordenado: \" + Arrays.toString(array));\n",
        "    }\n",
        "}\n",
        "```\n",
        "\n",
        "**4. Análise de Complexidade:**\n",
        "   - Apresentar a análise de complexidade do Quick Sort, destacando seu desempenho médio e pior caso.\n",
        "   - Comparar com outros algoritmos de ordenação em termos de eficiência.\n",
        "\n",
        "**5. Conclusão:**\n",
        "   - Recapitular os principais pontos abordados na aula.\n",
        "   - Destacar a eficiência do Quick Sort e sua aplicabilidade em cenários práticos.\n",
        "   - Incentivar os alunos a explorarem implementações e variações do algoritmo para um entendimento mais profundo.\n",
        "\n"
      ],
      "metadata": {
        "id": "RZUWtLU6wVrT"
      }
    },
    {
      "cell_type": "markdown",
      "source": [
        "## **Passo a passo da aplicação a uma lista de inteiros com 10 elementos**\n",
        "\n",
        "Vamos passar por um exemplo passo a passo da aplicação do algoritmo Quick Sort a uma lista de inteiros com 10 elementos. Para este exemplo, consideraremos a seguinte lista:\n",
        "\n",
        "$[12, 4, 5, 6, 7, 3, 1, 15, 8, 10]$\n",
        "\n",
        "**Passo 1: Escolha do Pivô**\n",
        "- Vamos escolher o último elemento como pivô. Portanto, $pivo = 10$ .\n",
        "\n",
        "**Passo 2: Particionamento**\n",
        "- Vamos percorrer a lista da esquerda para a direita, comparando cada elemento com o pivô.\n",
        "  - $[12, 4, 5, 6, 7, 3, 1, 15, 8, \\textbf{10}]$\n",
        "  - Movemos $\\textbf{4}$ para a esquerda, pois é menor que o pivô.\n",
        "\n",
        "- Continuamos o particionamento:\n",
        "  - $[12, \\textbf{4}, 5, 6, 7, 3, 1, 15, 8, \\textbf{10}] $\n",
        "  - $\\textbf{5}$ é menor que o pivô, então movemos $\\textbf{5}$ para a esquerda.\n",
        "\n",
        "  - $ [12, 4, \\textbf{5}, 6, 7, 3, 1, 15, 8, \\textbf{10}] $\n",
        "  - $\\textbf{6} $ é menor que o pivô, então movemos $\\textbf{6} $ para a esquerda.\n",
        "\n",
        "  - $[12, 4, 5, \\textbf{6}, 7, 3, 1, 15, 8, \\textbf{10}] $\n",
        "  - $\\textbf{7} $ é menor que o pivô, então movemos $\\textbf{7} $ para a esquerda.\n",
        "\n",
        "  - $[12, 4, 5, 6, \\textbf{7}, 3, 1, 15, 8, \\textbf{10}] $\n",
        "  - $\\textbf{3} $ é menor que o pivô, então movemos $\\textbf{3} $ para a esquerda.\n",
        "\n",
        "  - $[12, 4, 5, 6, 7, \\textbf{3}, 1, 15, 8, \\textbf{10}] $\n",
        "  - $\\textbf{1} $ é menor que o pivô, então movemos $\\textbf{1} $ para a esquerda.\n",
        "\n",
        "  - $[12, 4, 5, 6, 7, 3, \\textbf{1}, 15, 8, \\textbf{10}] $\n",
        "  - $\\textbf{8} $ é maior que o pivô, então não precisa ser movido.\n",
        "\n",
        "  - $[12, 4, 5, 6, 7, 3, 1, 15, \\textbf{8}, \\textbf{10}] $\n",
        "  - $\\textbf{15} $ é maior que o pivô, então não precisa ser movido.\n",
        "\n",
        "  - $[12, 4, 5, 6, 7, 3, 1, \\textbf{15}, \\textbf{8}, \\textbf{10}] $\n",
        "  - $\\textbf{10} $ é maior que o pivô, então não precisa ser movido.\n",
        "\n",
        "- Agora, trocamos o pivô ($\\text{pivô} = 10 $) com o primeiro elemento maior que o pivô na lista, que é $\\text{8} $.\n",
        "  - $[8, 4, 5, 6, 7, 3, 1, 10, 15] $\n",
        "\n",
        "**Passo 3: Aplicação Recursiva**\n",
        "- Aplicamos recursivamente o Quick Sort nas duas sub-listas geradas pelo particionamento:\n",
        "  - Sub-lista à esquerda de $\\text{pivô} = 8 $: $[4, 5, 6, 7, 3, 1] $\n",
        "  - Sub-lista à direita de $\\text{pivô} = 8 $: $[10, 15] $\n",
        "\n",
        "**Passo 4: Particionamento (Sub-lista à Esquerda)**\n",
        "- Escolhemos o último elemento como pivô novamente ($\\text{pivô} = 1 $).\n",
        "- Particionamos a sub-lista à esquerda:\n",
        "  - $[\\textbf{1}, 5, 6, 7, 3, \\textbf{4}] $\n",
        "  - $[\\textbf{1}, \\textbf{3}, 6, 7, \\textbf{4}, \\textbf{5}] $\n",
        "\n",
        "**Passo 5: Aplicação Recursiva (Sub-lista à Esquerda)**\n",
        "- Aplicamos recursivamente o Quick Sort na sub-lista à esquerda:\n",
        "  - Sub-lista à esquerda de $\\text{pivô} = 3 $: $[1] $\n",
        "  - Sub-lista à direita de $\\text{pivô} = 3 $: $[4, 5] $\n",
        "\n",
        "**Passo 6: Particionamento (Sub-lista à Direita)**\n",
        "- Escolhemos o único elemento como pivô ($\\text{pivô} = 5 $).\n",
        "- Particionamos a sub-lista à direita:\n",
        "  - $[4, \\textbf{5}] $\n",
        "\n",
        "**Passo 7: Aplicação Recursiva (Sub-lista à Direita)**\n",
        "- Como a sub-lista à direita tem apenas dois elementos, não precisamos realizar mais particionamentos.\n",
        "\n",
        "**Passo 8: Resultado Final**\n",
        "- Juntamos todas as sub-listas ordenadas para obter o resultado final:\n",
        "  - $[1, 3, 4, 5, 6, 7, 8, 10, 15] $\n",
        "\n",
        "Este é o processo do Quick Sort aplicado a uma lista de 10 elementos. O algoritmo continua a ser aplicado recursivamente até que todas as sub-listas tenham apenas um elemento, resultando em uma lista totalmente ordenada."
      ],
      "metadata": {
        "id": "I2nyoHfnw83i"
      }
    },
    {
      "cell_type": "markdown",
      "source": [
        "# **Algoritmo de busca binária**\n",
        "\n",
        "* O algoritmo de busca binária é executado somente em vetores ordenados. Nesse algoritmo o vetor com os dados é dividido ao meio e o número do meio é comparado com o número procurado.\n",
        "\n",
        "* Se estes forem iguais, a busca termina, caso contrário, se o número procurado é menor que o do meio, a busca será realizada no vetor à esquerda ao do meio.\n",
        "\n",
        "* Se o número procurado é maior que o do meio, a busca será realizada no vetor à direita ao vetor do meio. Esse procedimento de divisão e comparação acontece até que o vetor de dados fique com apenas um elemento ou até o número procurado\n",
        "ser encontrado.\n",
        "\n",
        "```java\n",
        "public class busca_binaria {\n",
        "\tpublic static void main(String[] args) {\n",
        "\t\tint[] x = {1,2,3,4,5,6,7,8,9,10};\n",
        "\t\tint tamanho = x.length;\n",
        "    //numero buscado\n",
        "\t\tint np = 4;\n",
        "\n",
        "\t\t//buscando o numero\n",
        "\t\tint achou = 0;\n",
        "\t\tint inicio = 0;\n",
        "\t\tint fim = tamanho - 1;\n",
        "\t\tint meio = (inicio+fim)/2;\n",
        "\n",
        "\t\twhile(inicio <= fim && achou == 0) {\n",
        "\t\t\tif (x[meio] == np) {\n",
        "\t\t\t\tachou = 1;\n",
        "\t\t\t} else {\n",
        "\t\t\t\tif (np < x[meio])\n",
        "\t\t\t\t\tfim = meio - 1;\n",
        "\t\t\t\telse\n",
        "\t\t\t\t\tinicio = meio + 1;\n",
        "\t\t\t\tmeio = (inicio + fim)/2;\n",
        "\t\t\t}\n",
        "\t\t}\n",
        "\n",
        "\t\tif (achou == 0) {\n",
        "\t\t\tSystem.out.println(\"Número não encontrado\");\n",
        "\t\t} else {\n",
        "\t\t\tSystem.out.println(\"Número encontrado no index \"+meio);\n",
        "\t\t}\n",
        "\t}\n",
        "}\n",
        "```\n"
      ],
      "metadata": {
        "id": "z2Syf4hWxaft"
      }
    },
    {
      "cell_type": "markdown",
      "source": [
        "# **Algoritmo de ordenação Heap Sort**\n",
        "\n",
        "Este algoritmo de ordenação é baseado na estrutura de dados `HEAP`, que nada mais é do que um vetor (X) que pode ser visto como uma árvore binária completa, onde cada nó possui no máximo 2 filhos. Cada vértice da árvore corresponde a um elemento do vetor. A árvore é completamente preenchida exceto no último nível. Cada nível é sempre preenchido da direita para a esquerda. Além disso, num HEAP, para todo vértice i diferente da raiz, a seguinte propriedade deve ser válida:` X[Pai(i)] > X[i]`.\n",
        "\n",
        "Dado um índice i do vetor, para se descobrir as posições em que se encontram o seu pai, o filho esquerdo e o direito, realizam-se os cálculos:\n",
        "* `Pai(i) = i/2,`\n",
        "* `Filho Esquerdo(i) = 2*i e `\n",
        "* `Filho Direito(i) =2*i + 1`.\n",
        "\n",
        "\n",
        "```java\n",
        "import java.util.Scanner;\n",
        "\n",
        "public class heap_sort {\n",
        "\tstatic int x[] = new int[11];\n",
        "\tstatic Scanner entrada = new Scanner(System.in);\n",
        "\tpublic static void main(String[] args) {\n",
        "\t\tint i;\n",
        "\t\tint qtde = 10;\n",
        "\t\tfor (i = 1; i <= 10; i++) {\n",
        "\t\t\tSystem.out.println(\"Digite o numero: \");\n",
        "\t\t\tx[i] = entrada.nextInt();\n",
        "\t\t}\n",
        "\t\t/*transformando o vetor digitado em um heap\n",
        "\t\t * cada no pai é maior que seus filhos\n",
        "\t\t * */\n",
        "\n",
        "\t\ttransforma_heap(qtde);\n",
        "\t\t//ordena de forma crescente\n",
        "\t\tordena(qtde);\n",
        "\t\tfor (i = 1; i <= 10; i++) {\n",
        "\t\t\tSystem.out.println(i+\" numero: \"+ x[i]);\n",
        "\t\t}\n",
        "\t}\n",
        "\n",
        "\tpublic static void transforma_heap(int qtde) {\n",
        "\t\tint i;\n",
        "\t\tfor (i = qtde/2; i >= 1; i--) {\n",
        "\t\t\theap_fica(i, qtde);\n",
        "\t\t}\n",
        "\t}\n",
        "\n",
        "\tprivate static void heap_fica(int i, int qtde) {\n",
        "\t\tint f_esq, f_dir, maior, aux;\n",
        "\t\tmaior = i;\n",
        "\t\tif(2*i+1<=qtde) {\n",
        "\t\t\t/* o no que está sendo analisado\n",
        "\t\t\t * tem filhos para esquerda e direita\n",
        "\t\t\t * */\n",
        "\t\t\tf_esq = 2*i+1;\n",
        "\t\t\tf_dir = 2*i;\n",
        "\n",
        "\t\t\tif(x[f_esq] >= x[f_dir] && x[f_esq] > x[i]) {\n",
        "\t\t\t\tmaior = 2*i+1;\n",
        "\t\t\t}else if(x[f_dir] > x[f_esq] && x[f_dir] > x[i]){\n",
        "\t\t\t\tmaior = 2*i;\n",
        "\t\t\t}\n",
        "\t\t}else if(2*i <= qtde) {\n",
        "\t\t\t/*o no que esta sendo analisado tem filho\n",
        "\t\t\t * apenas para a direita\n",
        "\t\t\t * */\n",
        "\t\t\tf_dir = 2*i;\n",
        "\t\t\tif(x[f_dir] > x[i])\n",
        "\t\t\t\tmaior = 2* i;\n",
        "\t\t}\n",
        "\n",
        "\t\tif(maior != i) {\n",
        "\t\t\taux = x[i];\n",
        "\t\t\tx[i] = x[maior];\n",
        "\t\t\tx[maior] = aux;\n",
        "\t\t\theap_fica(maior, qtde);\n",
        "\t\t}\n",
        "\n",
        "\t}\n",
        "\n",
        "\tprivate static void ordena(int qtde) {\n",
        "\t\tint i, aux, ultima_posi;\n",
        "\t\tfor (i = qtde; i >= 2; i--) {\n",
        "\t\t\taux = x[1];\n",
        "\t\t\tx[1]=x[i];\n",
        "\t\t\tx[i]=aux;\n",
        "\t\t\tultima_posi = i-1;\n",
        "\t\t\theap_fica(1, ultima_posi);\n",
        "\t\t}\n",
        "\n",
        "\t}\n",
        "}\n",
        "\n",
        "```"
      ],
      "metadata": {
        "id": "W6posDirZTV5"
      }
    },
    {
      "cell_type": "markdown",
      "source": [
        "\n",
        "Vamos passar pelo algoritmo `Heap Sort` passo a passo usando o vetor dado `[8, 3, 9, 5, 2, 4]`.\n",
        "\n"
      ],
      "metadata": {
        "id": "l4O--9yDbuff"
      }
    },
    {
      "cell_type": "code",
      "source": [
        "# Começamos a transformação do heap a partir do meio do vetor (índice 3).\n",
        "\n",
        "\n",
        "      8\n",
        "     / \\\n",
        "    5   4\n",
        "   / \\ / \\\n",
        "  3  2 9\n"
      ],
      "metadata": {
        "id": "2o2rggXKcSLn"
      },
      "execution_count": null,
      "outputs": []
    },
    {
      "cell_type": "code",
      "source": [
        "# Trocamos o primeiro elemento (raiz do heap) com o último elemento do heap não\n",
        "# ordenado e ajustamos o heap. 8 (antes) <-> 4 (último).\n",
        "\n",
        "      4\n",
        "     / \\\n",
        "    5   9\n",
        "   / \\ / \\\n",
        "  3  2 8\n"
      ],
      "metadata": {
        "id": "5TL-UuqhcZsF"
      },
      "execution_count": null,
      "outputs": []
    },
    {
      "cell_type": "code",
      "source": [
        "#Agora, repetimos o passo para o restante do heap não ordenado (índices 1 a 4).\n",
        "\n",
        "      5\n",
        "     / \\\n",
        "    4   9\n",
        "   / \\ / \\\n",
        "  3  2 8\n"
      ],
      "metadata": {
        "id": "TJmsFanLcjt1"
      },
      "execution_count": null,
      "outputs": []
    },
    {
      "cell_type": "code",
      "source": [
        "      2\n",
        "     / \\\n",
        "    4   9\n",
        "   / \\ / \\\n",
        "  3  5 8\n",
        "\n",
        "#Repetimos os passos até que todo o vetor seja ordenado."
      ],
      "metadata": {
        "id": "RaGUp1S3crTl"
      },
      "execution_count": null,
      "outputs": []
    },
    {
      "cell_type": "markdown",
      "source": [
        "Suponha que você tenha um conjunto de números representando alturas de pessoas em centímetros e deseja ordenar essas alturas em ordem crescente. Vamos usar o Heap Sort para realizar essa tarefa.\n",
        "\n",
        "```java\n",
        "import java.util.Arrays;\n",
        "import java.util.Scanner;\n",
        "\n",
        "public class AlturasSort {\n",
        "    static int alturas[] = new int[11];\n",
        "    static Scanner entrada = new Scanner(System.in);\n",
        "\n",
        "    public static void main(String[] args) {\n",
        "        int qtde = 6;  // Número de alturas a serem inseridas\n",
        "        lerAlturas(qtde); // Ler as alturas\n",
        "        transformaHeap(qtde); // Transformar as alturas em um heap\n",
        "        ordenaHeap(qtde); // Ordenar as alturas usando Heap Sort\n",
        "        exibirAlturas(qtde); // Exibir as alturas ordenadas\n",
        "    }\n",
        "\n",
        "    public static void lerAlturas(int qtde) {\n",
        "        System.out.println(\"Digite \" + qtde + \" alturas em centímetros:\");\n",
        "        for (int i = 1; i <= qtde; i++) {\n",
        "            System.out.print(\"Altura \" + i + \": \");\n",
        "            alturas[i] = entrada.nextInt();\n",
        "        }\n",
        "    }\n",
        "\n",
        "    public static void transformaHeap(int qtde) {\n",
        "        for (int i = qtde / 2; i >= 1; i--) {\n",
        "            heapify(i, qtde);\n",
        "        }\n",
        "    }\n",
        "\n",
        "    private static void heapify(int i, int qtde) {\n",
        "        int leftChild = 2 * i;\n",
        "        int rightChild = 2 * i + 1;\n",
        "        int largest = i;\n",
        "\n",
        "        if (leftChild <= qtde && alturas[leftChild] > alturas[largest]) {\n",
        "            largest = leftChild;\n",
        "        }\n",
        "\n",
        "        if (rightChild <= qtde && alturas[rightChild] > alturas[largest]) {\n",
        "            largest = rightChild;\n",
        "        }\n",
        "\n",
        "        if (largest != i) {\n",
        "            swap(i, largest);\n",
        "            heapify(largest, qtde);\n",
        "        }\n",
        "    }\n",
        "\n",
        "    private static void swap(int i, int j) {\n",
        "        int temp = alturas[i];\n",
        "        alturas[i] = alturas[j];\n",
        "        alturas[j] = temp;\n",
        "    }\n",
        "\n",
        "    private static void ordenaHeap(int qtde) {\n",
        "        for (int i = qtde; i >= 2; i--) {\n",
        "            swap(1, i);\n",
        "            qtde--;\n",
        "            heapify(1, qtde);\n",
        "        }\n",
        "    }\n",
        "\n",
        "    public static void exibirAlturas(int qtde) {\n",
        "        System.out.println(\"Alturas ordenadas:\");\n",
        "        for (int i = 1; i <= qtde; i++) {\n",
        "            System.out.println(i + \" altura: \" + alturas[i] + \" cm\");\n",
        "        }\n",
        "    }\n",
        "}\n",
        "\n",
        "\n",
        "```"
      ],
      "metadata": {
        "id": "2hG_74oXolZn"
      }
    },
    {
      "cell_type": "markdown",
      "source": [
        "# Estutura de dados do tipo listas"
      ],
      "metadata": {
        "id": "HPV5Lj6YqFPa"
      }
    },
    {
      "cell_type": "markdown",
      "source": [
        "# Estrutura de dados do tipo pilha e fila"
      ],
      "metadata": {
        "id": "IdoLMT4PqLvR"
      }
    },
    {
      "cell_type": "markdown",
      "source": [
        "# Estrutura de dados do tipo lista de prioridades"
      ],
      "metadata": {
        "id": "qJNexfgUqSkp"
      }
    },
    {
      "cell_type": "markdown",
      "source": [
        "# Estrutura de dados do tipo *`hashing`*"
      ],
      "metadata": {
        "id": "bWIkgpxZqW75"
      }
    },
    {
      "cell_type": "markdown",
      "source": [
        "# Estrutura de dados do tipo árvore\n",
        "\n",
        "As estruturas de dados do tipo árvore são não lineares, ou seja, os elementos que as compõem não estão armazenados de forma sequencial e também não estão todos encadeados.\n",
        "\n",
        "`Desenho`"
      ],
      "metadata": {
        "id": "0bWHNNAjqfRY"
      }
    },
    {
      "cell_type": "markdown",
      "source": [
        "## Árvore binária\n",
        "\n",
        "Uma árvore binária é um conjunto finito de elementos, onde cada elemento é denominado nó e o primeiro é conhecido como raiz da árvore. Esse conjunto pode estar vazio ou ser particionado em três subconjuntos distintos, sendo eles:\n",
        "\n",
        "* **1º subconjunto (nó raiz);**\n",
        "* **2º subconjunto (sub-árvore direita);** e\n",
        "* **3º subconjunto (sub-árvore esquerda).**\n",
        "\n",
        "`Desenho`\n",
        "\n",
        "As árvores binárias podem ser ilustradas de três formas distintas:\n",
        "\n",
        "`Desenho`\n",
        "\n"
      ],
      "metadata": {
        "id": "6FhG78noqlFZ"
      }
    },
    {
      "cell_type": "markdown",
      "source": [
        "Toda árvore binária possui as seguintes propridades:\n",
        "\n",
        "1. Todos os nós de uma sub-árvore direita são maiores que o nó raiz.\n",
        "2. Todos os nós de uma sub-árvore esquerda são menores que o nó raiz.\n",
        "3. Cada sub-árvore é também uma árvore binária.\n",
        "4. O grau de um nó representa o seu número de sub-árvores.\n",
        "\n",
        "`Desenho`\n",
        "\n",
        "5. Em uma árvore binária, o grau máximo de um nó é 2.\n",
        "\n",
        "6. O grau de uma árvore é igual ao máximo dos graus de todos os seus nós.\n",
        "\n",
        "7. Uma árvore binária tem grau máximo igual a 2.\n",
        "\n",
        "8. Nó pai, nó acima e com ligação direta a outro nó.\n",
        "\n",
        "9. Nó filho, nó abaixo e com ligação direta a outro nó. São os nós raízes das sub-árvores.\n",
        "\n",
        "10. Nós irmãos, são os nós que possuem o mesmo nó pai.\n",
        "\n",
        "11. Nó folha ou terminal, nó que não possui filhos.\n",
        "\n",
        "`Desenho`\n",
        "\n",
        "12. Nó ancestral, são os nós que estão ancima de um nó e possuem ligação direta ou indireta.\n",
        "\n",
        "13. Nós descendentes, são nós que estão abixo de um nó e possuem ligação direta ou indireta.\n",
        "\n",
        "14. Nós descendentes direto, são nós que estão abaixo de um nó, possuem ligação direta ou indireta e fazem parte da sub-árvore direita.\n",
        "\n",
        "15. Nós descendentes esquerdo, são os nós que estão abaixo de um nó, posuem ligação direta ou indireta e fazem parte da sub-árvore esquerda.\n",
        "\n",
        "16. Nível de um nó, é a sua distância do nó raiz. Logo, o nível do nó raiz é sempre zero.\n",
        "\n",
        "17. Altura ou profundidade de uma árvore, é o nível do nó mais distante da raiz.\n",
        "\n",
        "`Desenho`\n",
        "\n",
        "18. Expressão que representa o número máximo de nós em umnível da árvore binária  $= 2^n$ onde $n$ é o nível em questão.\n",
        "\n",
        "`Desenho`\n",
        "\n",
        "19. Árvore estritamente bínaria, é a árvore em que todos os nós têm 0 ou 2 filhos.\n",
        "\n",
        "20. Expressão que representa o número de nós de uma árvore estritamente binária $= 2n-1$, onde $n$ é o número de nós folha.\n",
        "\n",
        "`Desenho`\n",
        "\n",
        "21. Árvore completa, é a árvore em que todos os nós com menos de dois filhos ficam no último e no penúltimo nível.\n",
        "\n",
        "21. Árvore cheia, é a árvore estritamente binária e completa.\n",
        "\n",
        "`Desenho`"
      ],
      "metadata": {
        "id": "G2xjpDEn5gqn"
      }
    },
    {
      "cell_type": "markdown",
      "source": [
        "Neste tipo de estrutura serão abordadas as seguintes operações:\n",
        "\n",
        "* inserir um nó na árvore removê-lo;\n",
        "* consultar os nós da árvore em ordem;\n",
        "* consultar em pré-ordem;\n",
        "* consultar em pós-ordem; e\n",
        "* esvaziar a árvore.\n",
        "\n",
        "\n",
        "### Na operação de inserção\n",
        "As propriedades de uma árvore devem ser obedecidas e todo novo nó é sempre uma folha.\n",
        "\n",
        "### Na operação de remoção\n",
        "O filho da direita, que é o mais velho, assume o lugar do nó pai.\n",
        "\n",
        "### Nas operações de consulta\n",
        "Em ordem, pré-ordem e pós-ordem, todos os nós da árvore são listados, alterando-se apenas sua ordem.\n",
        "\n",
        "1. Na consulta em ordem\n",
        "\n",
        "Cada árvore é mostrada com o ramo da esquerda, a raiz e posteriormente o ramo da direita.\n",
        "\n",
        "2. Na consulta pré-ordem\n",
        "\n",
        "Cada árvore é mostrada com a raiz, o ramo da esquerda e posteriormente o ramo da direita.\n",
        "\n",
        "3. Na consulta pós-ordem\n",
        "\n",
        "Cada árvore é mostrada com o ramo da esquerda, o ramo da direita e posteriormente a raiz.\n",
        "\n",
        "\n",
        "`Desenho`"
      ],
      "metadata": {
        "id": "l0QG2b2_52RH"
      }
    },
    {
      "cell_type": "markdown",
      "source": [
        "```java\n",
        "package arvore;\n",
        "\n",
        "import java.util.Scanner;\n",
        "\n",
        "public class arvore_binaria {\n",
        "\n",
        "\tprivate static class ARVORE{\n",
        "\t\tpublic int num;\n",
        "\t\tpublic ARVORE dir, esq;\n",
        "\t}\n",
        "\n",
        "\tprivate static class PILHA{\n",
        "\t\tpublic ARVORE num;\n",
        "\t\tpublic PILHA prox;\n",
        "\t}\n",
        "\n",
        "\n",
        "\n",
        "\n",
        "\n",
        "\tpublic static void main(String[] args) {\n",
        "\t\tmenu();\n",
        "\t}\n",
        "\n",
        "\t//funcao menu\n",
        "\tpublic static void menu() {\n",
        "\t\tARVORE raiz = null;\n",
        "\t\tARVORE aux = null;\n",
        "\t\tARVORE aux1;\n",
        "\t\tARVORE novo = null;\n",
        "\t\tARVORE anterior;\n",
        "\t\tPILHA topo;\n",
        "\t\tPILHA aux_pilha;\n",
        "\t\tScanner entrada = new Scanner(System.in);\n",
        "\t\tint op, achou, numero;\n",
        "\n",
        "\t\tdo {\n",
        "\t\t\tSystem.out.println(\"\\t Menu de Opções \\n\");\n",
        "\t\t\tSystem.out.println(\"\\t 1-Inserir na árvore\");\n",
        "\t\t\tSystem.out.println(\"Digite sua opção: \\n\");\n",
        "\t\t\top = entrada.nextInt();\n",
        "\t\t\tif(op == 1) {\n",
        "\t\t\t\tinserir_no(raiz, novo, aux, entrada);\n",
        "\t\t\t}\n",
        "\t\t}while(op != 8);\n",
        "\t}\n",
        "\n",
        "\t//funcao inserir no na arvore\n",
        "\tpublic static void inserir_no(ARVORE raiz, ARVORE novo, ARVORE aux, Scanner entrada) {\n",
        "\t\tint achou =0;\n",
        "\t\tSystem.out.println(\"Digite o número a ser inserido na árvore:\");\n",
        "\t\tnovo = new ARVORE();\n",
        "\t\tnovo.num = entrada.nextInt();\n",
        "\t\tnovo.dir = null;\n",
        "\t\tnovo.esq = null;\n",
        "\t\tif(raiz == null)\n",
        "\t\t\traiz = novo;\n",
        "\t\telse {\n",
        "\t\t\taux = raiz;\n",
        "\t\t\tachou = 0;\n",
        "\t\t\twhile(achou == 0) {\n",
        "\t\t\t\tif(novo.num < aux.num) {\n",
        "\t\t\t\t\tif(aux.esq == null) {\n",
        "\t\t\t\t\t\taux.esq = novo;\n",
        "\t\t\t\t\t\tachou = 1;\n",
        "\t\t\t\t\t}else aux = aux.esq;\n",
        "\t\t\t\t}else if(novo.num >= aux.num) {\n",
        "\t\t\t\t\tif(aux.dir == null) {\n",
        "\t\t\t\t\t\taux.dir = novo;\n",
        "\t\t\t\t\t\tachou = 1;\n",
        "\t\t\t\t\t}else aux = aux.dir;\n",
        "\t\t\t\t}\n",
        "\t\t\t}\n",
        "\t\t}\n",
        "\t}\n",
        "\n",
        "}\n",
        "\n",
        "```"
      ],
      "metadata": {
        "id": "UovcumqoM18Z"
      }
    },
    {
      "cell_type": "markdown",
      "source": [
        "## Árvore AVL"
      ],
      "metadata": {
        "id": "6ES5ocd-qrSo"
      }
    },
    {
      "cell_type": "markdown",
      "source": [
        "# Algotirmos em grafos"
      ],
      "metadata": {
        "id": "ckmqA00tqxgo"
      }
    }
  ]
}